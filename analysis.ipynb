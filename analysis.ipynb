{
 "metadata": {
  "language_info": {
   "codemirror_mode": {
    "name": "ipython",
    "version": 3
   },
   "file_extension": ".py",
   "mimetype": "text/x-python",
   "name": "python",
   "nbconvert_exporter": "python",
   "pygments_lexer": "ipython3",
   "version": "3.7.7"
  },
  "orig_nbformat": 2,
  "kernelspec": {
   "name": "python377jvsc74a57bd04a68920d8e8856d089b03c157a7384bba62e0986489c1fa381bbe538cda0922c",
   "display_name": "Python 3.7.7 64-bit ('base': conda)"
  }
 },
 "nbformat": 4,
 "nbformat_minor": 2,
 "cells": [
  {
   "cell_type": "code",
   "execution_count": 1,
   "metadata": {},
   "outputs": [],
   "source": [
    "from sklearn.ensemble import RandomForestClassifier\n",
    "import pandas as pd\n",
    "import numpy as np"
   ]
  },
  {
   "cell_type": "code",
   "execution_count": 2,
   "metadata": {},
   "outputs": [],
   "source": [
    "cps = pd.read_csv(\"data/cps.csv.gz\")\n",
    "cps.columns = cps.columns.str.lower()"
   ]
  },
  {
   "cell_type": "code",
   "execution_count": 3,
   "metadata": {},
   "outputs": [
    {
     "output_type": "execute_result",
     "data": {
      "text/plain": [
       "Index(['year', 'serial', 'month', 'hwtfinl', 'cpsid', 'asecflag', 'asecwth',\n",
       "       'statefip', 'pernum', 'wtfinl', 'cpsidp', 'asecwt', 'age', 'sex',\n",
       "       'race', 'marst', 'citizen', 'hispan', 'empstat', 'educ', 'inctot',\n",
       "       'adjginc', 'spmtotres', 'spmthresh', 'spmfamunit', 'voted', 'vosuppwt'],\n",
       "      dtype='object')"
      ]
     },
     "metadata": {},
     "execution_count": 3
    }
   ],
   "source": [
    "cps.columns"
   ]
  },
  {
   "cell_type": "code",
   "execution_count": 4,
   "metadata": {},
   "outputs": [],
   "source": [
    "cps[\"vote\"] = cps.voted == 2"
   ]
  },
  {
   "cell_type": "code",
   "execution_count": 5,
   "metadata": {},
   "outputs": [],
   "source": [
    "p = cps[cps.month == 3].copy()  # ASEC person file\n",
    "train = cps[cps.month == 11].sample(frac=0.1).copy()  # Set to 1.0 for final analysis, will take a few minutes.\n",
    "train[\"vote\"] = train.voted == 2"
   ]
  },
  {
   "cell_type": "code",
   "execution_count": 6,
   "metadata": {},
   "outputs": [],
   "source": [
    "XCOLS = [\"statefip\", 'age', 'sex', 'race', 'marst', 'citizen', 'hispan', 'empstat', 'educ',]\n",
    "rf = RandomForestClassifier().fit(train[XCOLS], train.vote, train.vosuppwt)"
   ]
  },
  {
   "cell_type": "code",
   "execution_count": 7,
   "metadata": {},
   "outputs": [],
   "source": [
    "preds = rf.predict_proba(p[XCOLS])\n",
    "p[\"pred_vote\"] = preds[:, 1]"
   ]
  },
  {
   "cell_type": "code",
   "execution_count": 8,
   "metadata": {},
   "outputs": [
    {
     "output_type": "execute_result",
     "data": {
      "text/plain": [
       "year\n",
       "2018    0.393803\n",
       "2020    0.492427\n",
       "Name: vote, dtype: float64"
      ]
     },
     "metadata": {},
     "execution_count": 8
    }
   ],
   "source": [
    "cps[cps.month == 11].groupby(\"year\").vote.mean()"
   ]
  },
  {
   "cell_type": "code",
   "execution_count": 9,
   "metadata": {},
   "outputs": [
    {
     "output_type": "execute_result",
     "data": {
      "text/plain": [
       "0.4152820880886519"
      ]
     },
     "metadata": {},
     "execution_count": 9
    }
   ],
   "source": [
    "p.pred_vote.mean()"
   ]
  },
  {
   "cell_type": "code",
   "execution_count": 10,
   "metadata": {},
   "outputs": [
    {
     "output_type": "execute_result",
     "data": {
      "text/plain": [
       "        age  educ  citizen  pred_vote\n",
       "220004   29    81        1   0.620000\n",
       "171641    3     1        1   0.000000\n",
       "185416   25    81        5   0.000000\n",
       "277304    8     1        1   0.000000\n",
       "205529   76    73        1   0.873601\n",
       "270507   40   111        1   0.707750\n",
       "242095   73   111        1   0.930000\n",
       "123621   70   111        1   0.950000\n",
       "155985   11     1        1   0.000000\n",
       "257704    1     1        1   0.000000"
      ],
      "text/html": "<div>\n<style scoped>\n    .dataframe tbody tr th:only-of-type {\n        vertical-align: middle;\n    }\n\n    .dataframe tbody tr th {\n        vertical-align: top;\n    }\n\n    .dataframe thead th {\n        text-align: right;\n    }\n</style>\n<table border=\"1\" class=\"dataframe\">\n  <thead>\n    <tr style=\"text-align: right;\">\n      <th></th>\n      <th>age</th>\n      <th>educ</th>\n      <th>citizen</th>\n      <th>pred_vote</th>\n    </tr>\n  </thead>\n  <tbody>\n    <tr>\n      <th>220004</th>\n      <td>29</td>\n      <td>81</td>\n      <td>1</td>\n      <td>0.620000</td>\n    </tr>\n    <tr>\n      <th>171641</th>\n      <td>3</td>\n      <td>1</td>\n      <td>1</td>\n      <td>0.000000</td>\n    </tr>\n    <tr>\n      <th>185416</th>\n      <td>25</td>\n      <td>81</td>\n      <td>5</td>\n      <td>0.000000</td>\n    </tr>\n    <tr>\n      <th>277304</th>\n      <td>8</td>\n      <td>1</td>\n      <td>1</td>\n      <td>0.000000</td>\n    </tr>\n    <tr>\n      <th>205529</th>\n      <td>76</td>\n      <td>73</td>\n      <td>1</td>\n      <td>0.873601</td>\n    </tr>\n    <tr>\n      <th>270507</th>\n      <td>40</td>\n      <td>111</td>\n      <td>1</td>\n      <td>0.707750</td>\n    </tr>\n    <tr>\n      <th>242095</th>\n      <td>73</td>\n      <td>111</td>\n      <td>1</td>\n      <td>0.930000</td>\n    </tr>\n    <tr>\n      <th>123621</th>\n      <td>70</td>\n      <td>111</td>\n      <td>1</td>\n      <td>0.950000</td>\n    </tr>\n    <tr>\n      <th>155985</th>\n      <td>11</td>\n      <td>1</td>\n      <td>1</td>\n      <td>0.000000</td>\n    </tr>\n    <tr>\n      <th>257704</th>\n      <td>1</td>\n      <td>1</td>\n      <td>1</td>\n      <td>0.000000</td>\n    </tr>\n  </tbody>\n</table>\n</div>"
     },
     "metadata": {},
     "execution_count": 10
    }
   ],
   "source": [
    "p[[\"age\", \"educ\", \"citizen\", \"pred_vote\"]].sample(10)"
   ]
  },
  {
   "cell_type": "code",
   "execution_count": 11,
   "metadata": {},
   "outputs": [
    {
     "output_type": "execute_result",
     "data": {
      "text/plain": [
       "        age  educ  citizen  pred_vote\n",
       "122777   18    71        1   0.560000\n",
       "122780   18    71        1   0.142513\n",
       "122810   18    81        1   0.710000\n",
       "122831   18    60        5   0.020000\n",
       "122893   18    50        1   0.294305\n",
       "...     ...   ...      ...        ...\n",
       "280385   18    81        1   0.530000\n",
       "280463   18    60        5   0.020000\n",
       "280477   18    81        1   0.080000\n",
       "280536   18    73        1   0.280000\n",
       "280689   18    81        1   0.333850\n",
       "\n",
       "[2245 rows x 4 columns]"
      ],
      "text/html": "<div>\n<style scoped>\n    .dataframe tbody tr th:only-of-type {\n        vertical-align: middle;\n    }\n\n    .dataframe tbody tr th {\n        vertical-align: top;\n    }\n\n    .dataframe thead th {\n        text-align: right;\n    }\n</style>\n<table border=\"1\" class=\"dataframe\">\n  <thead>\n    <tr style=\"text-align: right;\">\n      <th></th>\n      <th>age</th>\n      <th>educ</th>\n      <th>citizen</th>\n      <th>pred_vote</th>\n    </tr>\n  </thead>\n  <tbody>\n    <tr>\n      <th>122777</th>\n      <td>18</td>\n      <td>71</td>\n      <td>1</td>\n      <td>0.560000</td>\n    </tr>\n    <tr>\n      <th>122780</th>\n      <td>18</td>\n      <td>71</td>\n      <td>1</td>\n      <td>0.142513</td>\n    </tr>\n    <tr>\n      <th>122810</th>\n      <td>18</td>\n      <td>81</td>\n      <td>1</td>\n      <td>0.710000</td>\n    </tr>\n    <tr>\n      <th>122831</th>\n      <td>18</td>\n      <td>60</td>\n      <td>5</td>\n      <td>0.020000</td>\n    </tr>\n    <tr>\n      <th>122893</th>\n      <td>18</td>\n      <td>50</td>\n      <td>1</td>\n      <td>0.294305</td>\n    </tr>\n    <tr>\n      <th>...</th>\n      <td>...</td>\n      <td>...</td>\n      <td>...</td>\n      <td>...</td>\n    </tr>\n    <tr>\n      <th>280385</th>\n      <td>18</td>\n      <td>81</td>\n      <td>1</td>\n      <td>0.530000</td>\n    </tr>\n    <tr>\n      <th>280463</th>\n      <td>18</td>\n      <td>60</td>\n      <td>5</td>\n      <td>0.020000</td>\n    </tr>\n    <tr>\n      <th>280477</th>\n      <td>18</td>\n      <td>81</td>\n      <td>1</td>\n      <td>0.080000</td>\n    </tr>\n    <tr>\n      <th>280536</th>\n      <td>18</td>\n      <td>73</td>\n      <td>1</td>\n      <td>0.280000</td>\n    </tr>\n    <tr>\n      <th>280689</th>\n      <td>18</td>\n      <td>81</td>\n      <td>1</td>\n      <td>0.333850</td>\n    </tr>\n  </tbody>\n</table>\n<p>2245 rows × 4 columns</p>\n</div>"
     },
     "metadata": {},
     "execution_count": 11
    }
   ],
   "source": [
    "# Check that 18 year olds have more than zero.\n",
    "p[p.age == 18][[\"age\", \"educ\", \"citizen\", \"pred_vote\"]]"
   ]
  },
  {
   "cell_type": "code",
   "execution_count": 12,
   "metadata": {},
   "outputs": [
    {
     "output_type": "execute_result",
     "data": {
      "text/plain": [
       "age         0.307478\n",
       "statefip    0.209098\n",
       "educ        0.193812\n",
       "citizen     0.083327\n",
       "marst       0.061576\n",
       "empstat     0.061297\n",
       "race        0.033163\n",
       "hispan      0.025690\n",
       "sex         0.024559\n",
       "dtype: float64"
      ]
     },
     "metadata": {},
     "execution_count": 12
    }
   ],
   "source": [
    "pd.Series(rf.feature_importances_, index=XCOLS).sort_values(ascending=False)"
   ]
  },
  {
   "cell_type": "code",
   "execution_count": 13,
   "metadata": {},
   "outputs": [],
   "source": [
    "p.to_csv(\"data/asec_vote_prob.csv.gz\", index=False, compression=\"gzip\")"
   ]
  },
  {
   "source": [
    "* Add FAMINC\n",
    "* Add wage\n",
    "* Add 2018-2019 ASEC\n",
    "* Share of population comes out ahead\n",
    "* Share of eligibleadults citizens\n",
    "* Share of predicted voters\n",
    "* Share of predicted voters by state (slice by 2022)\n",
    "* Each for a 2x2 of policy designs: include kids vs. include non-citizens\n",
    "* Add context of other polls and poverty/inequality effects\n"
   ],
   "cell_type": "markdown",
   "metadata": {}
  }
 ]
}